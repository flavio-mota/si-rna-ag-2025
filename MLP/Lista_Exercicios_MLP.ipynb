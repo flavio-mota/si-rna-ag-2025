{
  "cells": [
    {
      "cell_type": "markdown",
      "id": "af1d978d",
      "metadata": {},
      "source": [
        "<a href=\"https://colab.research.google.com/github/flavio-mota/si-rna-ag-2025/blob/main/MLP/Lista_Exercicios_MLP.ipynb\" target=\"_parent\"><img src=\"https://colab.research.google.com/assets/colab-badge.svg\" alt=\"Open In Colab\"/></a>"
      ]
    },
    {
      "cell_type": "markdown",
      "id": "4d8b5cde",
      "metadata": {
        "id": "4d8b5cde"
      },
      "source": [
        "\n",
        "# 🧩 Lista de Exercícios – MLP com TensorFlow\n",
        "\n",
        "Nesta atividade prática, você irá experimentar diferentes **arquiteturas**, **funções de custo**, **otimizadores** e **hiperparâmetros** em um **MLP (Perceptron Multicamadas)**.\n",
        "\n",
        "O objetivo é compreender **como as escolhas de configuração afetam o aprendizado** e o desempenho da rede.\n"
      ]
    },
    {
      "cell_type": "markdown",
      "id": "7b6b3573",
      "metadata": {
        "id": "7b6b3573"
      },
      "source": [
        "## ⚙️ Preparação do ambiente"
      ]
    },
    {
      "cell_type": "code",
      "execution_count": null,
      "id": "23dde54a",
      "metadata": {
        "id": "23dde54a"
      },
      "outputs": [],
      "source": [
        "\n",
        "import tensorflow as tf\n",
        "from tensorflow import keras\n",
        "from tensorflow.keras import layers, models\n",
        "import matplotlib.pyplot as plt\n",
        "import numpy as np\n",
        "\n",
        "# Carregando o dataset MNIST\n",
        "(x_train, y_train), (x_test, y_test) = keras.datasets.mnist.load_data()\n",
        "\n",
        "# Normalização\n",
        "x_train = x_train / 255.0\n",
        "x_test = x_test / 255.0\n",
        "\n",
        "# Flatten (28x28 -> 784)\n",
        "x_train = x_train.reshape(-1, 784)\n",
        "x_test = x_test.reshape(-1, 784)\n"
      ]
    },
    {
      "cell_type": "markdown",
      "id": "97203a82",
      "metadata": {
        "id": "97203a82"
      },
      "source": [
        "\n",
        "## 🧠 Função base para criação do modelo\n",
        "\n",
        "A função abaixo cria um modelo MLP simples.  \n",
        "Você poderá modificá-la nas atividades seguintes.\n"
      ]
    },
    {
      "cell_type": "code",
      "execution_count": null,
      "id": "a03f93b6",
      "metadata": {
        "id": "a03f93b6"
      },
      "outputs": [],
      "source": [
        "\n",
        "def criar_modelo(neuronios=[128, 64], ativacao='relu', otimizador='adam', loss='sparse_categorical_crossentropy', taxa_aprendizado=None):\n",
        "    model = models.Sequential()\n",
        "    model.add(layers.Input(shape=(784,)))\n",
        "\n",
        "    for n in neuronios:\n",
        "        model.add(layers.Dense(n, activation=ativacao))\n",
        "\n",
        "    model.add(layers.Dense(10, activation='softmax'))\n",
        "\n",
        "    if taxa_aprendizado:\n",
        "        opt_class = getattr(keras.optimizers, otimizador)\n",
        "        optimizer = opt_class(learning_rate=taxa_aprendizado)\n",
        "    else:\n",
        "        optimizer = otimizador\n",
        "\n",
        "    model.compile(optimizer=optimizer, loss=loss, metrics=['accuracy'])\n",
        "    return model\n"
      ]
    },
    {
      "cell_type": "markdown",
      "id": "05d232f3",
      "metadata": {
        "id": "05d232f3"
      },
      "source": [
        "\n",
        "## 🧩 Atividade 1 – Variar a Arquitetura da Rede\n",
        "\n",
        "Modifique o número e o tamanho das camadas ocultas.\n",
        "\n",
        "**Exemplo:**\n",
        "- Modelo A: `[128, 64]`\n",
        "- Modelo B: `[256, 128, 64]`\n",
        "- Modelo C: `[128]`\n",
        "\n",
        "Após cada alteração, execute o treinamento e observe o desempenho.\n"
      ]
    },
    {
      "cell_type": "code",
      "execution_count": null,
      "id": "cfa064d2",
      "metadata": {
        "id": "cfa064d2"
      },
      "outputs": [],
      "source": [
        "\n",
        "arquiteturas = {\n",
        "    \"Modelo A\": [128, 64],\n",
        "    \"Modelo B\": [256, 128, 64],\n",
        "    \"Modelo C\": [128]\n",
        "}\n",
        "\n",
        "resultados = {}\n",
        "\n",
        "for nome, camadas in arquiteturas.items():\n",
        "    print(f\"\\nTreinando {nome} com camadas: {camadas}\")\n",
        "    model = criar_modelo(neuronios=camadas)\n",
        "    h = model.fit(x_train, y_train, epochs=5, validation_split=0.2, verbose=1)\n",
        "    resultados[nome] = h.history['val_accuracy']\n",
        "\n",
        "plt.figure(figsize=(7,4))\n",
        "for nome, acc in resultados.items():\n",
        "    plt.plot(acc, label=nome)\n",
        "plt.title(\"Comparação entre arquiteturas\")\n",
        "plt.xlabel(\"Épocas\")\n",
        "plt.ylabel(\"Acurácia de Validação\")\n",
        "plt.legend()\n",
        "plt.show()\n"
      ]
    },
    {
      "cell_type": "markdown",
      "id": "f9fa8502",
      "metadata": {
        "id": "f9fa8502"
      },
      "source": [
        "\n",
        "## 🧮 Atividade 2 – Variar Hiperparâmetros\n",
        "\n",
        "Altere a **taxa de aprendizado**, o **otimizador**, o **número de épocas** e a **função de custo**.  \n",
        "Observe como essas mudanças afetam o aprendizado.\n"
      ]
    },
    {
      "cell_type": "code",
      "execution_count": null,
      "id": "4d837ff3",
      "metadata": {
        "id": "4d837ff3"
      },
      "outputs": [],
      "source": [
        "# Consulte os nomes dos otimizadores em https://keras.io/api/optimizers/\n",
        "hiperparametros = [\n",
        "    #{\"otimizador\": \"Adam\", \"taxa_aprendizado\": 0.001, \"loss\": \"sparse_categorical_crossentropy\", \"epocas\": 5},\n",
        "    {\"otimizador\": \"SGD\", \"taxa_aprendizado\": 0.01, \"loss\": \"sparse_categorical_crossentropy\", \"epocas\": 10},\n",
        "    {\"otimizador\": \"RMSprop\", \"taxa_aprendizado\": 0.0005, \"loss\": \"sparse_categorical_crossentropy\", \"epocas\": 5}\n",
        "]\n",
        "\n",
        "resultados_hp = {}\n",
        "\n",
        "for i, cfg in enumerate(hiperparametros, 1):\n",
        "    print(f\"\\nTreinando configuração {i}: {cfg}\")\n",
        "    model = criar_modelo(otimizador=cfg[\"otimizador\"], loss=cfg[\"loss\"], taxa_aprendizado=cfg[\"taxa_aprendizado\"])\n",
        "    h = model.fit(x_train, y_train, epochs=cfg[\"epocas\"], validation_split=0.2, verbose=1)\n",
        "    resultados_hp[f\"Config {i}\"] = h.history['val_accuracy']\n",
        "\n",
        "plt.figure(figsize=(7,4))\n",
        "for nome, acc in resultados_hp.items():\n",
        "    plt.plot(acc, label=nome)\n",
        "plt.title(\"Comparação entre Hiperparâmetros\")\n",
        "plt.xlabel(\"Épocas\")\n",
        "plt.ylabel(\"Acurácia de Validação\")\n",
        "plt.legend()\n",
        "plt.show()\n"
      ]
    },
    {
      "cell_type": "markdown",
      "id": "02595254",
      "metadata": {
        "id": "02595254"
      },
      "source": [
        "\n",
        "## 🔍 Atividade 3 – Comparar Resultados\n",
        "\n",
        "Crie um resumo comparando as **melhores acurácias** de cada configuração testada.\n"
      ]
    },
    {
      "cell_type": "code",
      "execution_count": null,
      "id": "89b0fada",
      "metadata": {
        "id": "89b0fada"
      },
      "outputs": [],
      "source": [
        "\n",
        "print(\"Resumo das melhores acurácias (validação):\")\n",
        "for nome, acc in {**resultados, **resultados_hp}.items():\n",
        "    print(f\"{nome}: {max(acc):.4f}\")\n"
      ]
    },
    {
      "cell_type": "markdown",
      "id": "162b317f",
      "metadata": {
        "id": "162b317f"
      },
      "source": [
        "\n",
        "## 🧪 Atividade 4 – Escolha o Melhor Modelo\n",
        "\n",
        "Escolha a combinação (arquitetura + hiperparâmetros) que apresentou o melhor resultado.  \n",
        "Depois, **treine novamente por mais épocas (ex: 15)** e visualize a curva de aprendizado.\n"
      ]
    },
    {
      "cell_type": "code",
      "execution_count": null,
      "id": "21216632",
      "metadata": {
        "id": "21216632"
      },
      "outputs": [],
      "source": [
        "\n",
        "melhor_modelo = criar_modelo(neuronios=[256, 128, 64], otimizador='adam', taxa_aprendizado=0.001)\n",
        "hist = melhor_modelo.fit(x_train, y_train, epochs=15, validation_split=0.2, verbose=1)\n",
        "\n",
        "plt.plot(hist.history['accuracy'], label='Treino')\n",
        "plt.plot(hist.history['val_accuracy'], label='Validação')\n",
        "plt.title('Curva de aprendizado do melhor modelo')\n",
        "plt.xlabel('Épocas')\n",
        "plt.ylabel('Acurácia')\n",
        "plt.legend()\n",
        "plt.show()\n"
      ]
    },
    {
      "cell_type": "markdown",
      "id": "ffeb6ebd",
      "metadata": {
        "id": "ffeb6ebd"
      },
      "source": [
        "\n",
        "## 🧠 Atividade 5 – Reflexão Final\n",
        "\n",
        "Responda às perguntas a seguir (use células de texto no Colab):\n",
        "\n",
        "1. Qual arquitetura apresentou o melhor desempenho?  \n",
        "2. Como a taxa de aprendizado influenciou o comportamento do modelo?  \n",
        "3. Qual otimizador trouxe o aprendizado mais rápido ou estável?  \n",
        "4. Houve sinais de *overfitting* em algum caso?  \n",
        "5. Se você fosse treinar esse modelo por mais tempo, que ajustes faria?\n",
        "\n",
        "> 💡 O objetivo é entender o impacto das suas decisões de configuração no resultado final da rede neural.\n"
      ]
    }
  ],
  "metadata": {
    "colab": {
      "provenance": []
    },
    "kernelspec": {
      "display_name": "Python 3",
      "name": "python3"
    },
    "language_info": {
      "name": "python"
    }
  },
  "nbformat": 4,
  "nbformat_minor": 5
}
